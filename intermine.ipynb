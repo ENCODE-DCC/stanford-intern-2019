{
 "cells": [
  {
   "cell_type": "code",
   "execution_count": 1,
   "metadata": {},
   "outputs": [],
   "source": [
    "from intermine import registry as reg\n",
    "from intermine.webservice import Service"
   ]
  },
  {
   "cell_type": "code",
   "execution_count": 2,
   "metadata": {},
   "outputs": [],
   "source": [
    "ORGANISM_NAME = \"S. cerevisiae\""
   ]
  },
  {
   "cell_type": "code",
   "execution_count": 3,
   "metadata": {},
   "outputs": [
    {
     "name": "stdout",
     "output_type": "stream",
     "text": [
      "MitoMiner\n",
      "ThaleMine\n",
      "XenMine\n",
      "YeastMine\n"
     ]
    }
   ],
   "source": [
    "reg.getMines(ORGANISM_NAME)"
   ]
  },
  {
   "cell_type": "code",
   "execution_count": 4,
   "metadata": {},
   "outputs": [],
   "source": [
    "MINE_NAME = \"YeastMine\""
   ]
  },
  {
   "cell_type": "code",
   "execution_count": 5,
   "metadata": {},
   "outputs": [
    {
     "name": "stdout",
     "output_type": "stream",
     "text": [
      "Description: Search and retrieve S. cerevisiae data, populated by SGD and powered by InterMine\n",
      "URL: https://yeastmine.yeastgenome.org/yeastmine\n",
      "API Version: 25\n",
      "Release Version: Data Updated on: Jun-11-2019\n",
      "InterMine Version: 1.8.5\n",
      "Organisms: \n",
      "S. cerevisiae\n",
      "Neighbours: \n",
      "Animals\n",
      "Microbes\n"
     ]
    }
   ],
   "source": [
    "reg.getInfo(MINE_NAME)"
   ]
  },
  {
   "cell_type": "code",
   "execution_count": 6,
   "metadata": {},
   "outputs": [
    {
     "name": "stdout",
     "output_type": "stream",
     "text": [
      "Name: BioGRID interaction data set\n",
      "Name: BioGRID interaction data set\n",
      "Name: C.glabrata homologs from CGOB and YGOB\n",
      "Name: CGD and AspGD chromosomal_feature.tab files\n",
      "Name: CGD/CGOB file download\n",
      "Name: DO Annotation from SGD curated Disease data\n",
      "Name: Ensembl Compara data set\n",
      "Name: GO Annotation from GOC\n",
      "Name: GO Annotation from GO_Central\n",
      "Name: GO Annotation from InterPro\n",
      "Name: GO Annotation from RNAcentral\n",
      "Name: GO Annotation from SGD\n",
      "Name: GO Annotation from UniProt\n",
      "Name: HomoloGene data set\n",
      "Name: IntAct Complexes\n",
      "Name: MGI identifiers\n",
      "Name: Manually Curated S.Pombe Homologs\n",
      "Name: NCBI Entrez Gene identifiers\n",
      "Name: OMIM diseases\n",
      "Name: Orthologs from FungiDB using OrthoMCL\n",
      "Name: Panther data set\n",
      "Name: Preliminary Transcripts\n",
      "Name: Protein Aggregation data\n",
      "Name: Protein N-terminus Modifications  data set\n",
      "Name: RGD gene identifiers\n",
      "Name: SGD UTRs from GFF\n",
      "Name: SGD data set\n",
      "Name: Spell Expression Data\n",
      "Name: TreeFam data set\n",
      "Name: Yeast Complementation\n",
      "Name: YeastMine gene flanking regions\n",
      "Name: YeastMine intergenic regions\n"
     ]
    }
   ],
   "source": [
    "reg.getData(MINE_NAME)"
   ]
  },
  {
   "cell_type": "code",
   "execution_count": 8,
   "metadata": {},
   "outputs": [],
   "source": [
    "URL = \"https://yeastmine.yeastgenome.org/yeastmine\""
   ]
  },
  {
   "cell_type": "code",
   "execution_count": 9,
   "metadata": {},
   "outputs": [],
   "source": [
    "service = Service(URL)"
   ]
  },
  {
   "cell_type": "code",
   "execution_count": 13,
   "metadata": {},
   "outputs": [
    {
     "data": {
      "text/plain": [
       "<intermine.query.Query at 0x7f9b53d1d6d8>"
      ]
     },
     "execution_count": 13,
     "metadata": {},
     "output_type": "execute_result"
    }
   ],
   "source": [
    "query = service.new_query()\n",
    "query.select(\"Organism.name\")"
   ]
  },
  {
   "cell_type": "code",
   "execution_count": 14,
   "metadata": {},
   "outputs": [
    {
     "name": "stdout",
     "output_type": "stream",
     "text": [
      "Organism: name='Anopheles gambiae'\n",
      "Organism: name='Aspergillus fischeri NRRL 181'\n",
      "Organism: name='Aspergillus flavus NRRL3357'\n",
      "Organism: name='Aspergillus fumigatus Af293'\n",
      "Organism: name='Aspergillus nidulans FGSC A4'\n",
      "Organism: name='Aspergillus niger ATCC 1015'\n",
      "Organism: name='Caenorhabditis elegans'\n",
      "Organism: name='Candida albicans SC5314'\n",
      "Organism: name='Candida albicans WO-1'\n",
      "Organism: name='Candida dubliniensis CD36'\n"
     ]
    }
   ],
   "source": [
    "for row in query.rows(start=0, size=10):\n",
    "    print(row)"
   ]
  }
 ],
 "metadata": {
  "kernelspec": {
   "display_name": "Python 3",
   "language": "python",
   "name": "python3"
  },
  "language_info": {
   "codemirror_mode": {
    "name": "ipython",
    "version": 3
   },
   "file_extension": ".py",
   "mimetype": "text/x-python",
   "name": "python",
   "nbconvert_exporter": "python",
   "pygments_lexer": "ipython3",
   "version": "3.6.7"
  }
 },
 "nbformat": 4,
 "nbformat_minor": 2
}
