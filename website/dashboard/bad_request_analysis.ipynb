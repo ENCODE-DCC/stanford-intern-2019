{
 "cells": [
  {
   "cell_type": "code",
   "execution_count": 1,
   "metadata": {
    "pycharm": {
     "is_executing": false
    }
   },
   "outputs": [],
   "source": [
    "import os\n",
    "import django\n",
    "import sys\n",
    "sys.path.append('../')\n",
    "os.environ.setdefault(\"DJANGO_SETTINGS_MODULE\", \"activity_viewer.settings\")\n",
    "django.setup()"
   ]
  },
  {
   "cell_type": "code",
   "execution_count": 2,
   "metadata": {
    "pycharm": {
     "is_executing": false,
     "name": "#%%\n"
    }
   },
   "outputs": [],
   "source": [
    "from dashboard.models import Log\n",
    "from django.db.models import Count"
   ]
  },
  {
   "cell_type": "code",
   "execution_count": 3,
   "metadata": {
    "pycharm": {
     "is_executing": false,
     "name": "#%%\n"
    }
   },
   "outputs": [
    {
     "data": {
      "text/plain": [
       "<QuerySet [('ExpiredToken', 3767632), ('InvalidRange', 121591), ('AccessDenied', 116190), ('NoSuchKey', 21390), ('AuthorizationHeaderMalformed', 8052), ('InvalidToken', 3659), ('InternalError', 566), ('SignatureDoesNotMatch', 279), ('InvalidRequest', 266), ('InvalidAccessKeyId', 118), ('KeyTooLongError', 56), ('InvalidArgument', 13), ('PermanentRedirect', 10), ('RequestTimeTooSkewed', 4)]>"
      ]
     },
     "execution_count": 3,
     "metadata": {},
     "output_type": "execute_result"
    }
   ],
   "source": [
    "# A non-None error code represents an invalid request\n",
    "bad_request_logs = Log.objects.filter(error_code__isnull=False)\n",
    "# Grouping by error code and counting the ones that appear most, sorting by frequency\n",
    "most_common_errors = bad_request_logs.values_list('error_code').annotate(count=Count('error_code')).order_by('-count')\n",
    "most_common_errors"
   ]
  },
  {
   "cell_type": "code",
   "execution_count": 4,
   "metadata": {
    "pycharm": {
     "is_executing": false,
     "name": "#%%\n"
    }
   },
   "outputs": [
    {
     "data": {
      "text/plain": [
       "<QuerySet [('ExpiredToken', 2293496), ('AccessDenied', 2891), ('InternalError', 2)]>"
      ]
     },
     "execution_count": 4,
     "metadata": {},
     "output_type": "execute_result"
    }
   ],
   "source": [
    "# Search based on a specific value of a field, in this case an IP\n",
    "china_ip_errors = bad_request_logs.filter(ip_address='202.118.228.188').values_list('error_code').annotate(count=Count('error_code')).order_by('-count')\n",
    "china_ip_errors"
   ]
  }
 ],
 "metadata": {
  "kernelspec": {
   "display_name": "Python 3",
   "language": "python",
   "name": "python3"
  },
  "language_info": {
   "codemirror_mode": {
    "name": "ipython",
    "version": 3
   },
   "file_extension": ".py",
   "mimetype": "text/x-python",
   "name": "python",
   "nbconvert_exporter": "python",
   "pygments_lexer": "ipython3",
   "version": "3.7.3"
  },
  "pycharm": {
   "stem_cell": {
    "cell_type": "raw",
    "metadata": {
     "collapsed": false
    },
    "source": []
   }
  }
 },
 "nbformat": 4,
 "nbformat_minor": 1
}
