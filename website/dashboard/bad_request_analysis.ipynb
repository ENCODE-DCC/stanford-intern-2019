{
 "cells": [
  {
   "cell_type": "code",
   "execution_count": 1,
   "metadata": {
    "pycharm": {
     "is_executing": false
    }
   },
   "outputs": [],
   "source": [
    "import os\n",
    "import django\n",
    "from django.db import connection\n",
    "import sys\n",
    "sys.path.append('../')\n",
    "import pandas as pd\n",
    "import matplotlib.pyplot as plt\n",
    "os.environ.setdefault('DJANGO_SETTINGS_MODULE', 'activity_viewer.settings')\n",
    "django.setup()"
   ]
  },
  {
   "cell_type": "code",
   "execution_count": 2,
   "metadata": {
    "pycharm": {
     "is_executing": false,
     "name": "#%%\n"
    }
   },
   "outputs": [],
   "source": [
    "from dashboard.models import Log\n",
    "from django.db.models import Count"
   ]
  },
  {
   "cell_type": "code",
   "execution_count": 3,
   "metadata": {
    "pycharm": {
     "is_executing": false,
     "name": "#%%\n"
    }
   },
   "outputs": [
    {
     "name": "stdout",
     "text": [
      "<QuerySet [('InvalidRange', 208), ('NoSuchKey', 3), ('ExpiredToken', 1), ('InternalError', 1)]>\n"
     ],
     "output_type": "stream"
    }
   ],
   "source": [
    "# A non-None error code represents an invalid request\n",
    "bad_request_logs = Log.objects.filter(error_code__isnull=False)\n",
    "# Grouping by error code and counting the ones that appear most, sorting by frequency\n",
    "most_common_errors = bad_request_logs.values_list('error_code').annotate(count=Count('error_code')).order_by('-count')\n",
    "print(most_common_errors)"
   ]
  },
  {
   "cell_type": "code",
   "execution_count": 4,
   "metadata": {
    "pycharm": {
     "is_executing": false
    }
   },
   "outputs": [
    {
     "data": {
      "text/plain": "<Figure size 432x288 with 1 Axes>",
      "image/png": "[encoded data removed]"
     },
     "metadata": {
      "needs_background": "light"
     },
     "output_type": "display_data"
    }
   ],
   "source": [
    "all_errors_df = pd.DataFrame(most_common_errors, columns=['reason', 'count'])\n",
    "all_errors_df.set_index('reason', inplace=True)\n",
    "axes = all_errors_df.plot(kind='bar')\n",
    "axes.set(xlabel=\"Reason\", ylabel=\"Frequency\", title='Most Common Errors')\n",
    "plt.show()"
   ]
  },
  {
   "cell_type": "code",
   "execution_count": 5,
   "metadata": {
    "pycharm": {
     "is_executing": false,
     "name": "#%%\n"
    }
   },
   "outputs": [
    {
     "name": "stdout",
     "text": [
      "<QuerySet []>\n"
     ],
     "output_type": "stream"
    }
   ],
   "source": [
    "# Search based on a specific value of a field, in this case an IP\n",
    "china_ip_errors = bad_request_logs.filter(ip_address='202.118.228.188').values_list('error_code').annotate(count=Count('error_code')).order_by('-count')\n",
    "print(china_ip_errors)"
   ]
  },
  {
   "cell_type": "code",
   "execution_count": 6,
   "metadata": {
    "pycharm": {
     "is_executing": false
    }
   },
   "outputs": [
    {
     "name": "stdout",
     "text": [
      "[{'sql': 'SELECT \"dashboard_log\".\"error_code\", COUNT(\"dashboard_log\".\"error_code\") AS \"count\" FROM \"dashboard_log\" WHERE \"dashboard_log\".\"error_code\" IS NOT NULL GROUP BY \"dashboard_log\".\"error_code\" ORDER BY \"count\" DESC  LIMIT 21', 'time': '0.003'}, {'sql': 'SELECT \"dashboard_log\".\"error_code\", COUNT(\"dashboard_log\".\"error_code\") AS \"count\" FROM \"dashboard_log\" WHERE \"dashboard_log\".\"error_code\" IS NOT NULL GROUP BY \"dashboard_log\".\"error_code\" ORDER BY \"count\" DESC', 'time': '0.001'}, {'sql': 'SELECT \"dashboard_log\".\"error_code\", COUNT(\"dashboard_log\".\"error_code\") AS \"count\" FROM \"dashboard_log\" WHERE (\"dashboard_log\".\"error_code\" IS NOT NULL AND \"dashboard_log\".\"ip_address\" = \\'202.118.228.188\\'::inet) GROUP BY \"dashboard_log\".\"error_code\" ORDER BY \"count\" DESC  LIMIT 21', 'time': '0.003'}]\n"
     ],
     "output_type": "stream"
    }
   ],
   "source": [
    "print(connection.queries)"
   ]
  }
 ],
 "metadata": {
  "kernelspec": {
   "display_name": "Python 3",
   "language": "python",
   "name": "python3"
  },
  "language_info": {
   "codemirror_mode": {
    "name": "ipython",
    "version": 3
   },
   "file_extension": ".py",
   "mimetype": "text/x-python",
   "name": "python",
   "nbconvert_exporter": "python",
   "pygments_lexer": "ipython3",
   "version": "3.7.3"
  },
  "pycharm": {
   "stem_cell": {
    "cell_type": "raw",
    "source": [],
    "metadata": {
     "collapsed": false
    }
   }
  }
 },
 "nbformat": 4,
 "nbformat_minor": 1
}