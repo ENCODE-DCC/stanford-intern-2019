{
 "cells": [
  {
   "cell_type": "code",
   "execution_count": 1,
   "metadata": {},
   "outputs": [],
   "source": [
    "import requests as req"
   ]
  },
  {
   "cell_type": "code",
   "execution_count": 2,
   "metadata": {},
   "outputs": [],
   "source": [
    "import pandas as pd\n",
    "import numpy as np\n",
    "import matplotlib.pyplot as plt"
   ]
  },
  {
   "cell_type": "code",
   "execution_count": 3,
   "metadata": {},
   "outputs": [],
   "source": [
    "# Display pyplot graphs as interactable\n",
    "%matplotlib notebook"
   ]
  },
  {
   "cell_type": "code",
   "execution_count": 4,
   "metadata": {},
   "outputs": [],
   "source": [
    "SGD_API_BASE_URL = 'https://www.yeastgenome.org/webservice'"
   ]
  },
  {
   "cell_type": "code",
   "execution_count": 5,
   "metadata": {},
   "outputs": [],
   "source": [
    "GENES_TO_QUERY_COUNT = 100"
   ]
  },
  {
   "cell_type": "code",
   "execution_count": 6,
   "metadata": {},
   "outputs": [
    {
     "ename": "FileNotFoundError",
     "evalue": "[Errno 2] No such file or directory: 'resources/all_chromosome_features_sgdids.tsv'",
     "output_type": "error",
     "traceback": [
      "\u001b[0;31m---------------------------------------------------------------------------\u001b[0m",
      "\u001b[0;31mFileNotFoundError\u001b[0m                         Traceback (most recent call last)",
      "\u001b[0;32m<ipython-input-6-ad9e98ceccb4>\u001b[0m in \u001b[0;36m<module>\u001b[0;34m\u001b[0m\n\u001b[0;32m----> 1\u001b[0;31m \u001b[0msgdids_with_features_file\u001b[0m \u001b[0;34m=\u001b[0m \u001b[0mopen\u001b[0m\u001b[0;34m(\u001b[0m\u001b[0;34m'resources/all_chromosome_features_sgdids.tsv'\u001b[0m\u001b[0;34m,\u001b[0m \u001b[0;34m'r'\u001b[0m\u001b[0;34m)\u001b[0m\u001b[0;34m\u001b[0m\u001b[0;34m\u001b[0m\u001b[0m\n\u001b[0m",
      "\u001b[0;31mFileNotFoundError\u001b[0m: [Errno 2] No such file or directory: 'resources/all_chromosome_features_sgdids.tsv'"
     ]
    }
   ],
   "source": [
    "sgdids_with_features_file = open('resources/all_chromosome_features_sgdids.tsv', 'r')"
   ]
  },
  {
   "cell_type": "code",
   "execution_count": null,
   "metadata": {},
   "outputs": [],
   "source": [
    "# For each line, split by tabs and take the first column which is the SGD ID associated with that gene\n",
    "sgdids_with_features = [line.strip().split('\\t')[0] for line in sgdids_with_features_file]"
   ]
  },
  {
   "cell_type": "code",
   "execution_count": null,
   "metadata": {},
   "outputs": [],
   "source": [
    "all_locus_json_data = {}\n",
    "for sgdid in (sgdids_with_features if GENES_TO_QUERY_COUNT is 'all' else sgdids_with_features[:GENES_TO_QUERY_COUNT]):\n",
    "    request_url = SGD_API_BASE_URL + '/locus/' + sgdid\n",
    "    sequence_details_request_url = request_url + '/sequence_details'\n",
    "    locus_general_json_data = req.get(url=request_url).json()\n",
    "    locus_sequence_details_json_data = req.get(url=sequence_details_request_url).json()\n",
    "    print(\"Got JSON response for locus with SGD ID: {}\".format(request_url, sgdid))\n",
    "    all_locus_json_data[sgdid] = locus_general_json_data, locus_sequence_details_json_data"
   ]
  },
  {
   "cell_type": "code",
   "execution_count": null,
   "metadata": {},
   "outputs": [],
   "source": [
    "# ID for the reference strain of yeast S288C\n",
    "REFERENCE_STRAIN_ID = 1364643"
   ]
  },
  {
   "cell_type": "code",
   "execution_count": null,
   "metadata": {
    "scrolled": false
   },
   "outputs": [],
   "source": [
    "rows = []\n",
    "column_headers = ['sgdid', 'feature_type', 'systematic_name', 'gene_name', 'aliases', 'characterization', 'location', 'start', 'end', 'strand']\n",
    "for sgdid, (locus_general_json_data, locus_sequence_details_json_data) in all_locus_json_data.items():\n",
    "    has_aliases = bool(locus_general_json_data['aliases'])\n",
    "    genomic_json_data = locus_sequence_details_json_data['genomic_dna']\n",
    "    reference_strain_json_data = None\n",
    "    # Make sure that this strain is the reference S288C\n",
    "    for strain_json_data in genomic_json_data:\n",
    "        if strain_json_data['strain']['id'] == REFERENCE_STRAIN_ID:\n",
    "            reference_strain_json_data = strain_json_data\n",
    "    rows.append([\n",
    "        sgdid,\n",
    "        locus_general_json_data['locus_type'] or 'N/A',\n",
    "        locus_general_json_data['format_name'] or 'N/A',\n",
    "        locus_general_json_data['gene_name'] or 'N/A',\n",
    "        [alias['display_name'] for alias in locus_general_json_data['aliases']] if has_aliases else \"None\",\n",
    "        locus_general_json_data['qualifier'] or 'N/A',\n",
    "        reference_strain_json_data['contig']['display_name'] if reference_strain_json_data else 'N/A',\n",
    "        reference_strain_json_data['start'] if reference_strain_json_data else 'N/A',\n",
    "        reference_strain_json_data['end'] if reference_strain_json_data else 'N/A',\n",
    "        reference_strain_json_data['strand'] if reference_strain_json_data else 'N/A',\n",
    "    ])\n",
    "locus_data = pd.DataFrame(rows, columns=column_headers)\n",
    "print(locus_data)"
   ]
  }
 ],
 "metadata": {
  "kernelspec": {
   "display_name": "Python 3",
   "language": "python",
   "name": "python3"
  },
  "language_info": {
   "codemirror_mode": {
    "name": "ipython",
    "version": 3
   },
   "file_extension": ".py",
   "mimetype": "text/x-python",
   "name": "python",
   "nbconvert_exporter": "python",
   "pygments_lexer": "ipython3",
   "version": "3.7.3"
  }
 },
 "nbformat": 4,
 "nbformat_minor": 2
}
