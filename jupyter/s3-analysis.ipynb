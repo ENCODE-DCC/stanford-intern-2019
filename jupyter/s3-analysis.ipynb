{
 "cells": [
  {
   "cell_type": "code",
   "execution_count": 1,
   "metadata": {},
   "outputs": [],
   "source": [
    "import os.path\n",
    "\n",
    "import boto3\n",
    "import pandas as pd\n",
    "from decouple import config\n",
    "from s3logparse.s3logparse import parse_log_lines, LogLine"
   ]
  },
  {
   "cell_type": "code",
   "execution_count": 2,
   "metadata": {},
   "outputs": [],
   "source": [
    "s3 = boto3.resource(\n",
    "    's3',\n",
    "    aws_access_key_id=config('ACCESS_KEY'),\n",
    "    aws_secret_access_key=config('SECRET_KEY')\n",
    ")"
   ]
  },
  {
   "cell_type": "code",
   "execution_count": 3,
   "metadata": {},
   "outputs": [],
   "source": [
    "bucket = s3.Bucket(name='encode-public-logs')"
   ]
  },
  {
   "cell_type": "code",
   "execution_count": 4,
   "metadata": {},
   "outputs": [],
   "source": [
    "LOG_PATH = 's3_logs'\n",
    "\n",
    "if not os.path.exists(LOG_PATH):\n",
    "    os.mkdir(LOG_PATH)"
   ]
  },
  {
   "cell_type": "code",
   "execution_count": 5,
   "metadata": {},
   "outputs": [],
   "source": [
    "def get_local_or_download(name):\n",
    "    local_path = f'{LOG_PATH}/{name}'\n",
    "    if not os.path.exists(local_path):\n",
    "        bucket.download_file(name, local_path)\n",
    "    return open(local_path)"
   ]
  },
  {
   "cell_type": "code",
   "execution_count": 9,
   "metadata": {},
   "outputs": [
    {
     "name": "stdout",
     "output_type": "stream",
     "text": [
      "                                        bucket_owner         bucket  \\\n",
      "0  b'50fe8c9d2e5e9d4db8f4fd5ff68ec949de9d4ca39756...  encode-public   \n",
      "1  b'50fe8c9d2e5e9d4db8f4fd5ff68ec949de9d4ca39756...  encode-public   \n",
      "2  b'50fe8c9d2e5e9d4db8f4fd5ff68ec949de9d4ca39756...  encode-public   \n",
      "3  b'50fe8c9d2e5e9d4db8f4fd5ff68ec949de9d4ca39756...  encode-public   \n",
      "\n",
      "                  timestamp     remote_ip  \\\n",
      "0 2019-02-08 21:57:53+00:00  171.66.209.5   \n",
      "1 2019-02-08 21:58:05+00:00  171.66.209.5   \n",
      "2 2019-02-08 22:58:02+00:00  171.66.209.4   \n",
      "3 2019-02-08 23:00:15+00:00  171.66.209.5   \n",
      "\n",
      "                                    requester        request_id  \\\n",
      "0  arn:aws:iam::407227577691:user/caseylitton  A1E34A80F6423271   \n",
      "1  arn:aws:iam::407227577691:user/caseylitton  CB382FA22780C50D   \n",
      "2                                        None  352478B159D39173   \n",
      "3                                        None  E3F97BCC8A464D76   \n",
      "\n",
      "                            operation  \\\n",
      "0  REST.GET.OBJECT_LOCK_CONFIGURATION   \n",
      "1  REST.GET.OBJECT_LOCK_CONFIGURATION   \n",
      "2                     REST.GET.OBJECT   \n",
      "3                     REST.GET.OBJECT   \n",
      "\n",
      "                                              s3_key  \\\n",
      "0                                               None   \n",
      "1                                               None   \n",
      "2  2019/02/08/008faa2c-18a7-49a2-8440-eaf8214b0ec...   \n",
      "3  2019/02/08/008faa2c-18a7-49a2-8440-eaf8214b0ec...   \n",
      "\n",
      "                                         request_uri  status_code  \\\n",
      "0           GET /encode-public?object-lock= HTTP/1.1          404   \n",
      "1           GET /encode-public?object-lock= HTTP/1.1          404   \n",
      "2  GET /encode-public/2019/02/08/008faa2c-18a7-49...          200   \n",
      "3  GET /encode-public/2019/02/08/008faa2c-18a7-49...          403   \n",
      "\n",
      "                             error_code  bytes_sent  object_size  total_time  \\\n",
      "0  ObjectLockConfigurationNotFoundError         348            0          17   \n",
      "1  ObjectLockConfigurationNotFoundError         348            0          18   \n",
      "2                                  None   190264817   4939738869        9692   \n",
      "3                          AccessDenied         243            0          11   \n",
      "\n",
      "   turn_around_time                                           referrer  \\\n",
      "0                 0                                               None   \n",
      "1                 0                                               None   \n",
      "2                77                                               None   \n",
      "3                 0  https://s3.console.aws.amazon.com/s3/object/en...   \n",
      "\n",
      "                                          user_agent version_id  \n",
      "0  S3Console/0.4, aws-internal/3 aws-sdk-java/1.1...       -\\n'  \n",
      "1  S3Console/0.4, aws-internal/3 aws-sdk-java/1.1...       None  \n",
      "2  Mozilla/5.0 (Macintosh; Intel Mac OS X 10_12_6...       None  \n",
      "3  Mozilla/5.0 (Macintosh; Intel Mac OS X 10_12_6...       None  \n"
     ]
    }
   ],
   "source": [
    "rows = []\n",
    "column_headers = LogLine._fields\n",
    "\n",
    "ALREADY_TRIED_FILE_PATH = 'already-tried.txt'\n",
    "\n",
    "already_tried = []\n",
    "if os.path.exists(ALREADY_TRIED_FILE_PATH):\n",
    "    with open(ALREADY_TRIED_FILE_PATH, 'r') as already_tried_file:\n",
    "        already_tried = already_tried_file.read().splitlines()\n",
    "        \n",
    "def is_log_file_we_want(content):\n",
    "    return b'REST.GET.OBJECT' in content;\n",
    "\n",
    "for file in bucket.objects.filter(Prefix='2019').limit(3000):\n",
    "    if file.key in already_tried:\n",
    "        continue\n",
    "    local_path = f'{LOG_PATH}/{file.key}'\n",
    "    if os.path.exists(local_path):\n",
    "        with open(local_path, 'r') as local_copy:\n",
    "            content = local_copy.readlines()\n",
    "            for log_entry in parse_log_lines(content):\n",
    "                rows.append(list(log_entry))\n",
    "    else:\n",
    "        content = file.get()['Body'].read()\n",
    "        if is_log_file_we_want(content):\n",
    "            with open(local_path, 'w') as local_copy:\n",
    "                local_copy.write(str(content))\n",
    "                rows.append(list(parse_log_lines(content)))\n",
    "        else:\n",
    "            already_tried.append(file.key)\n",
    "with open(ALREADY_TRIED_FILE_PATH, 'w') as already_tried_file:\n",
    "    for tried in already_tried:\n",
    "        already_tried_file.write(tried + '\\n')\n",
    "\n",
    "data = pd.DataFrame(rows, columns=column_headers)\n",
    "print(data)"
   ]
  }
 ],
 "metadata": {
  "kernelspec": {
   "display_name": "Python 3",
   "language": "python",
   "name": "python3"
  },
  "language_info": {
   "codemirror_mode": {
    "name": "ipython",
    "version": 3
   },
   "file_extension": ".py",
   "mimetype": "text/x-python",
   "name": "python",
   "nbconvert_exporter": "python",
   "pygments_lexer": "ipython3",
   "version": "3.7.3"
  }
 },
 "nbformat": 4,
 "nbformat_minor": 2
}
