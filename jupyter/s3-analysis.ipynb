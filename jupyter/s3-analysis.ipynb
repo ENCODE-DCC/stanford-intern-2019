{
 "cells": [
  {
   "cell_type": "code",
   "execution_count": 1,
   "metadata": {},
   "outputs": [],
   "source": [
    "import os.path\n",
    "\n",
    "import boto3\n",
    "import pandas as pd\n",
    "from decouple import config\n",
    "from s3logparse.s3logparse import parse_log_lines, LogLine"
   ]
  },
  {
   "cell_type": "code",
   "execution_count": 2,
   "metadata": {},
   "outputs": [],
   "source": [
    "s3 = boto3.resource(\n",
    "    's3',\n",
    "    aws_access_key_id=config('ACCESS_KEY'),\n",
    "    aws_secret_access_key=config('SECRET_KEY')\n",
    ")"
   ]
  },
  {
   "cell_type": "code",
   "execution_count": 3,
   "metadata": {},
   "outputs": [],
   "source": [
    "bucket = s3.Bucket(name='encode-public-logs')"
   ]
  },
  {
   "cell_type": "code",
   "execution_count": 4,
   "metadata": {},
   "outputs": [],
   "source": [
    "LOG_PATH = 's3_logs'\n",
    "\n",
    "if not os.path.exists(LOG_PATH):\n",
    "    os.mkdir(LOG_PATH)"
   ]
  },
  {
   "cell_type": "code",
   "execution_count": 5,
   "metadata": {},
   "outputs": [],
   "source": [
    "def get_local_or_download(name):\n",
    "    local_path = f'{LOG_PATH}/{name}'\n",
    "    if not os.path.exists(local_path):\n",
    "        bucket.download_file(name, local_path)\n",
    "    return open(local_path)"
   ]
  },
  {
   "cell_type": "code",
   "execution_count": 63,
   "metadata": {},
   "outputs": [
    {
     "name": "stdout",
     "output_type": "stream",
     "text": [
      "Empty DataFrame\n",
      "Columns: [bucket_owner, bucket, timestamp, remote_ip, requester, request_id, operation, s3_key, request_uri, status_code, error_code, bytes_sent, object_size, total_time, turn_around_time, referrer, user_agent, version_id]\n",
      "Index: []\n"
     ]
    }
   ],
   "source": [
    "rows = []\n",
    "column_headers = LogLine._fields\n",
    "\n",
    "ALREADY_TRIED_FILE_PATH = 'already-tried.txt'\n",
    "\n",
    "already_tried = []\n",
    "if os.path.exists(ALREADY_TRIED_FILE_PATH):\n",
    "    with open(ALREADY_TRIED_FILE_PATH, 'r') as already_tried_file:\n",
    "        already_tried = already_tried_file.read().splitlines()\n",
    "\n",
    "for file in bucket.objects.filter(Prefix='2019', Delimiter='-').limit(1500):\n",
    "    if file.key in already_tried:\n",
    "        continue\n",
    "    local_path = f'{LOG_PATH}/{file.key}'\n",
    "    if os.path.exists(local_path):\n",
    "        with open(local_path, \"r\") as local_copy:\n",
    "            content = local_copy.readlines()\n",
    "    else:\n",
    "        content = file.get()['Body'].read()\n",
    "        if b'REST.GET.OBJECT' in content:\n",
    "            with open(local_path, 'w') as local_copy:\n",
    "                local_copy.write(str(content))\n",
    "        else:\n",
    "            already_tried.append(file.key)\n",
    "            continue\n",
    "    with get_local_or_download(file.key) as log:\n",
    "        for log_entry in parse_log_lines(log.readlines()):\n",
    "            rows.append(list(log_entry))\n",
    "with open(ALREADY_TRIED_FILE_PATH, 'w') as already_tried_file:\n",
    "    for tried in already_tried:\n",
    "        already_tried_file.write(tried + '\\n')\n",
    "\n",
    "data = pd.DataFrame(rows, columns=column_headers)\n",
    "print(data)"
   ]
  }
 ],
 "metadata": {
  "kernelspec": {
   "display_name": "Python 3",
   "language": "python",
   "name": "python3"
  },
  "language_info": {
   "codemirror_mode": {
    "name": "ipython",
    "version": 3
   },
   "file_extension": ".py",
   "mimetype": "text/x-python",
   "name": "python",
   "nbconvert_exporter": "python",
   "pygments_lexer": "ipython3",
   "version": "3.7.3"
  }
 },
 "nbformat": 4,
 "nbformat_minor": 2
}
